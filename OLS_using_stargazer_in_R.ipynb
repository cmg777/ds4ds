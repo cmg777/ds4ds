{
  "cells": [
    {
      "cell_type": "markdown",
      "metadata": {
        "cell_id": "f495471b1f934835aa8940923929597e",
        "deepnote_cell_type": "text-cell-h1",
        "formattedRanges": [],
        "is_collapsed": false,
        "tags": [],
        "id": "vXuxY9T_pEXp"
      },
      "source": [
        "# Ordinary least squares (OLS) regressions and stargazer tables using R"
      ]
    },
    {
      "cell_type": "markdown",
      "metadata": {
        "cell_id": "8f6be6249c1a484495fa01ba0f140297",
        "deepnote_cell_type": "markdown",
        "tags": [],
        "id": "QX1lDXU0pEXt"
      },
      "source": [
        "**Note:** This computational notebook replicates and extends some of the findings of the following paper: Ingram, M. C., & da Costa, M. M. (2019). [Political geography of violence: Municipal politics and homicide in Brazil](https://doi.org/10.1016/j.worlddev.2019.06.016). World Development, 124, 104592. Replication materials are available at https://doi.org/10.7910/DVN/NX5QIU"
      ]
    },
    {
      "cell_type": "markdown",
      "metadata": {
        "cell_id": "a8d94d937622434f951b2650f6d747dc",
        "deepnote_cell_type": "text-cell-h2",
        "formattedRanges": [],
        "is_collapsed": false,
        "tags": [],
        "id": "r7-SfILnpEXt"
      },
      "source": [
        "## Install and load libraries"
      ]
    },
    {
      "cell_type": "code",
      "execution_count": 2,
      "metadata": {
        "id": "xBOec1eXsxki_R_install",
        "colab": {
          "base_uri": "https://localhost:8080/"
        },
        "outputId": "8f9309e6-c6bd-4814-cf2d-66c7c07b1e2e"
      },
      "outputs": [
        {
          "output_type": "stream",
          "name": "stderr",
          "text": [
            "Installing packages into ‘/usr/local/lib/R/site-library’\n",
            "(as ‘lib’ is unspecified)\n",
            "\n",
            "also installing the dependencies ‘proxy’, ‘e1071’, ‘wk’, ‘classInt’, ‘s2’, ‘units’\n",
            "\n",
            "\n"
          ]
        }
      ],
      "source": [
        "install.packages(c(\"sf\", \"stargazer\"))\n",
        "# Note: Installing sf may take about 10 minutes"
      ]
    },
    {
      "cell_type": "code",
      "execution_count": 3,
      "metadata": {
        "cell_id": "130a7f339fcc4eb3a0581cae60d5fdf4_R",
        "id": "AlgTV8-PpEXt_R_load",
        "colab": {
          "base_uri": "https://localhost:8080/"
        },
        "outputId": "73a9617b-6ac5-4933-b0d0-f964691ae3c0"
      },
      "outputs": [
        {
          "output_type": "stream",
          "name": "stderr",
          "text": [
            "Linking to GEOS 3.11.1, GDAL 3.6.4, PROJ 9.1.1; sf_use_s2() is TRUE\n",
            "\n",
            "\n",
            "Please cite as: \n",
            "\n",
            "\n",
            " Hlavac, Marek (2022). stargazer: Well-Formatted Regression and Summary Statistics Tables.\n",
            "\n",
            " R package version 5.2.3. https://CRAN.R-project.org/package=stargazer \n",
            "\n",
            "\n"
          ]
        }
      ],
      "source": [
        "# Load libraries\n",
        "library(tidyverse) # For data manipulation (dplyr, readr, etc.)\n",
        "library(sf)      # For spatial data (replaces geopandas)\n",
        "library(stargazer) # For creating regression tables\n",
        "\n",
        "# Suppress warnings (optional, equivalent to Python's warnings.filterwarnings('ignore'))\n",
        "options(warn=-1)"
      ]
    },
    {
      "cell_type": "markdown",
      "metadata": {
        "cell_id": "b7509817f9b34513bfd74b7581d37a6a",
        "deepnote_cell_type": "text-cell-h2",
        "formattedRanges": [],
        "is_collapsed": false,
        "tags": [],
        "id": "7iXkprNmpEXu"
      },
      "source": [
        "## List of variables"
      ]
    },
    {
      "cell_type": "markdown",
      "metadata": {
        "cell_id": "bacf7c3903ec48e499b93e2a0e3c4146",
        "deepnote_cell_type": "markdown",
        "tags": [],
        "id": "_-3AaQoVpEXv"
      },
      "source": [
        "| Name            | Label   | Description                                                                                                                                                                      |\n",
        "|-----------------|---------|----------------------------------------------------------------------------------------------------------------------------------------------------------------------------------|\n",
        "| HR Change       | DfHRElc | Difference between the two-year average of homicide rates in 2011-2012 and the two-year average in 2007-2008                                                                     |\n",
        "| Margin of Victory | margin  | Margin of victory in mayoral election, calculated as the difference between the percentage of votes obtained by the winner of the election and the percentage of votes obtained by the second place candidate |\n",
        "| Abstention      | Abstntn | Percent of voters that abstained from three consecutive elections as of 2010                                                                                                     |\n",
        "| Alignment       | stalign | Party alignment of mayor and governor (1 if the party of the mayor elected in 2008 was the same as the party of the governor; 0 otherwise)                                    |\n",
        "| PT              | PT      | Mayors from PT (Workers’ Party, PT)                                                                                                                                                                  |\n",
        "| PSDB            | PSDB    | Mayors from PSDB                                                                                                                                                                 |\n",
        "| PMDB            | PMDB    | Mayors from PMDB                                                                                                                                                                 |\n",
        "| PopDensity      | lppdnst | Total population divided by territorial area covered by the municipality (logged)                                                                                               |\n",
        "| YoungMalePct    | lpctppy | Percent of the population consisting of males ages $15-29$ (logged)                                                                                                              |\n",
        "| GINI            | GINI    | GINI index (continuous variable; 0 for perfect income equality; 1 for totally concentrated income)                                                                               |\n",
        "| HDI             | IDHM    | Municipal Human Development Index (continuous variable; 0 low development; 1 high development)                                                                                    |\n",
        "| SingleMotherHH  | HHsinpr | Percent of households headed by mothers with no education and a child below 15 years old                                                                                          |\n",
        "| Employment      | Ocp18ml | Percent of residents age 18 or over who are employed (i.e., adult employment rate)                                                                                              |\n",
        "| BolsaFamilia   | CoverBF | Percent of poor families eligible for Bolsa Familia who are actually covered by Bolsa Familia (i.e., coverage rate)                                                           |\n"
      ]
    },
    {
      "cell_type": "markdown",
      "metadata": {
        "cell_id": "afcb532621b642b19670da9026708c08",
        "deepnote_cell_type": "text-cell-h2",
        "formattedRanges": [],
        "is_collapsed": false,
        "tags": [],
        "id": "VnZqC1MhpEXv"
      },
      "source": [
        "## Load data"
      ]
    },
    {
      "cell_type": "code",
      "execution_count": 4,
      "metadata": {
        "cell_id": "49ddbaf3bd694e3e83e94d41e675a100_R",
        "id": "vO4kv-RapEXw_R",
        "colab": {
          "base_uri": "https://localhost:8080/"
        },
        "outputId": "a1bda94e-bff8-45a5-de30-369c16db7bbb"
      },
      "outputs": [
        {
          "output_type": "stream",
          "name": "stdout",
          "text": [
            "Reading layer `homicidesBRA_WD_20190318' from data source \n",
            "  `https://gist.github.com/cmg777/fe858a48ff7191b9c2a3aff7d6ddfd6f/raw/858272ce03d1b818429df3e7cead9e03ef7ec3b9/homicidesBRA_WD_20190318.geojson' \n",
            "  using driver `GeoJSON'\n",
            "Simple feature collection with 5562 features and 48 fields\n",
            "Geometry type: MULTIPOLYGON\n",
            "Dimension:     XY\n",
            "Bounding box:  xmin: -73.99094 ymin: -33.75158 xmax: -34.79333 ymax: 5.272156\n",
            "Geodetic CRS:  WGS 84\n"
          ]
        }
      ],
      "source": [
        "# Read the GeoJSON file directly using the sf package\n",
        "# This creates a simple features (sf) data frame, similar to a GeoDataFrame\n",
        "gdf <- st_read(\"https://gist.github.com/cmg777/fe858a48ff7191b9c2a3aff7d6ddfd6f/raw/858272ce03d1b818429df3e7cead9e03ef7ec3b9/homicidesBRA_WD_20190318.geojson\")\n",
        "\n",
        "# Display the first few rows and structure (similar to Python's gdf.head() and gdf.info())\n",
        "# print(head(gdf))\n",
        "# print(str(gdf))"
      ]
    },
    {
      "cell_type": "markdown",
      "metadata": {
        "cell_id": "6c7469a0ef2a4b44b9c91d7046815a24",
        "deepnote_cell_type": "text-cell-h2",
        "formattedRanges": [],
        "is_collapsed": false,
        "tags": [],
        "id": "F_6gA5n-pEXz"
      },
      "source": [
        "## OLS regressions"
      ]
    },
    {
      "cell_type": "code",
      "execution_count": 5,
      "metadata": {
        "cell_id": "bff73dfcd531483ab40731d020cd1ec7_R",
        "id": "mUYJzYa3pEXz_R"
      },
      "outputs": [],
      "source": [
        "mod1 <- lm(DfHRElc ~ margin + stalign + Abstntn + PMDB + PSDB + PT + lppdnst + lpctppy + GINI + IDHM + HHsinpr + Ocp18ml + CoverBF, data=gdf)\n",
        "mod2 <- lm(DfHRElc ~ margin + stalign + Abstntn + PMDB             + lppdnst + lpctppy + GINI + IDHM + HHsinpr + Ocp18ml + CoverBF, data=gdf)\n",
        "mod3 <- lm(DfHRElc ~ margin + stalign + Abstntn        + PSDB      + lppdnst + lpctppy + GINI + IDHM + HHsinpr + Ocp18ml + CoverBF, data=gdf)\n",
        "mod4 <- lm(DfHRElc ~ margin + stalign + Abstntn               + PT + lppdnst + lpctppy + GINI + IDHM + HHsinpr + Ocp18ml + CoverBF, data=gdf)"
      ]
    },
    {
      "cell_type": "code",
      "source": [
        "# You can view model summaries individually\n",
        "# summary(mod1)"
      ],
      "metadata": {
        "id": "j_0pyToqVofR"
      },
      "execution_count": null,
      "outputs": []
    },
    {
      "cell_type": "code",
      "execution_count": 15,
      "metadata": {
        "cell_id": "cca8b9114d2c48d8a1e6f8195f915d41_R",
        "id": "6tQr41m-pEXz_R_html",
        "colab": {
          "base_uri": "https://localhost:8080/"
        },
        "outputId": "82717f73-7cb0-4e7a-d04d-ca64b938ff4e"
      },
      "outputs": [
        {
          "output_type": "stream",
          "name": "stdout",
          "text": [
            "\n",
            "Regression Results\n",
            "===========================================================================================================================\n",
            "                                                               Dependent variable:                                         \n",
            "                       ----------------------------------------------------------------------------------------------------\n",
            "                                                                     DfHRElc                                               \n",
            "                                 (1)                       (2)                      (3)                      (4)           \n",
            "---------------------------------------------------------------------------------------------------------------------------\n",
            "Margin of Victory               -0.730                   -0.702                    -0.707                   -0.744         \n",
            "                               (0.807)                   (0.807)                  (0.807)                  (0.808)         \n",
            "State Alignment                 -0.765                   -0.812*                   -0.509                   -0.613         \n",
            "                               (0.511)                   (0.470)                  (0.495)                  (0.466)         \n",
            "Abstention                     1.078***                 1.077***                  1.051***                 1.052***        \n",
            "                               (0.380)                   (0.380)                  (0.380)                  (0.380)         \n",
            "PMDB Mayor                     1.241**                  1.360***                                                           \n",
            "                               (0.507)                   (0.473)                                                           \n",
            "PSDB Mayor                      -0.082                                             -0.406                                  \n",
            "                               (0.625)                                            (0.588)                                  \n",
            "PT Mayor                        -0.751                                                                      -1.042         \n",
            "                               (0.668)                                                                     (0.643)         \n",
            "Pop Density (log)              0.317**                   0.316**                   0.309*                  0.314**         \n",
            "                               (0.159)                   (0.159)                  (0.159)                  (0.159)         \n",
            "Young Male Pct (log)           7.825***                 7.801***                  7.689***                 7.723***        \n",
            "                               (1.996)                   (1.996)                  (1.997)                  (1.997)         \n",
            "GINI Index                     -6.234*                   -6.416*                  -6.497*                  -6.137*         \n",
            "                               (3.423)                   (3.417)                  (3.422)                  (3.423)         \n",
            "HDI                           -17.682***               -17.748***                -17.820***               -17.970***       \n",
            "                               (4.045)                   (4.033)                  (4.047)                  (4.034)         \n",
            "Single Mother HH               0.287***                 0.285***                  0.280***                 0.283***        \n",
            "                               (0.068)                   (0.068)                  (0.068)                  (0.068)         \n",
            "Employment Rate                 0.047                     0.046                    0.050*                   0.052*         \n",
            "                               (0.030)                   (0.030)                  (0.030)                  (0.030)         \n",
            "Bolsa Familia Coverage          0.004                     0.004                    0.004                    0.003          \n",
            "                               (0.010)                   (0.010)                  (0.010)                  (0.010)         \n",
            "Intercept                     23.145***                 23.191***                23.264***                23.194***        \n",
            "                               (5.018)                   (5.018)                  (5.021)                  (5.020)         \n",
            "---------------------------------------------------------------------------------------------------------------------------\n",
            "Observations                    5,562                     5,562                    5,562                    5,562          \n",
            "R2                              0.020                     0.020                    0.019                    0.019          \n",
            "Adjusted R2                     0.018                     0.018                    0.017                    0.017          \n",
            "Residual Std. Error       14.315 (df = 5548)       14.314 (df = 5550)        14.324 (df = 5550)       14.321 (df = 5550)   \n",
            "F Statistic            8.844*** (df = 13; 5548) 10.337*** (df = 11; 5550) 9.617*** (df = 11; 5550) 9.816*** (df = 11; 5550)\n",
            "===========================================================================================================================\n",
            "Note:                                                                                           *p<0.1; **p<0.05; ***p<0.01\n"
          ]
        }
      ],
      "source": [
        "stargazer(mod1, mod2, mod3, mod4,\n",
        "          type = \"text\",\n",
        "          title=\"Regression Results\",\n",
        "          align=TRUE,\n",
        "          covariate.labels=c(\"Margin of Victory\", \"State Alignment\", \"Abstention\", \"PMDB Mayor\", \"PSDB Mayor\", \"PT Mayor\",\n",
        "                              \"Pop Density (log)\", \"Young Male Pct (log)\", \"GINI Index\", \"HDI\", \"Single Mother HH\",\n",
        "                              \"Employment Rate\", \"Bolsa Familia Coverage\", \"Intercept\"),\n",
        "          no.space=TRUE # Reduces vertical space in the table\n",
        "         )"
      ]
    },
    {
      "cell_type": "code",
      "source": [
        "# Generate and print the regression table in LaTeX format\n",
        "# type = \"latex\" generates LaTeX code\n",
        "# header = FALSE prevents extra LaTeX preamble/document tags\n",
        "stargazer(mod1, mod2, mod3, mod4,\n",
        "          type = \"latex\",\n",
        "          header = FALSE,\n",
        "          title=\"Regression Results\",\n",
        "          align=TRUE,\n",
        "          dep.var.labels=c(\"Change in Homicide Rate (DfHRElc)\"),\n",
        "          no.space=TRUE\n",
        "         )"
      ],
      "metadata": {
        "id": "aTGD0W7hMcGg_R_latex",
        "colab": {
          "base_uri": "https://localhost:8080/"
        },
        "outputId": "80d6df18-ca60-4426-9afd-4037b29ffcf3"
      },
      "execution_count": 7,
      "outputs": [
        {
          "output_type": "stream",
          "name": "stdout",
          "text": [
            "\n",
            "\\begin{table}[!htbp] \\centering \n",
            "  \\caption{Regression Results} \n",
            "  \\label{} \n",
            "\\begin{tabular}{@{\\extracolsep{5pt}}lD{.}{.}{-3} D{.}{.}{-3} D{.}{.}{-3} D{.}{.}{-3} } \n",
            "\\\\[-1.8ex]\\hline \n",
            "\\hline \\\\[-1.8ex] \n",
            " & \\multicolumn{4}{c}{\\textit{Dependent variable:}} \\\\ \n",
            "\\cline{2-5} \n",
            "\\\\[-1.8ex] & \\multicolumn{4}{c}{Change in Homicide Rate (DfHRElc)} \\\\ \n",
            "\\\\[-1.8ex] & \\multicolumn{1}{c}{(1)} & \\multicolumn{1}{c}{(2)} & \\multicolumn{1}{c}{(3)} & \\multicolumn{1}{c}{(4)}\\\\ \n",
            "\\hline \\\\[-1.8ex] \n",
            " margin & -0.730 & -0.702 & -0.707 & -0.744 \\\\ \n",
            "  & p = 0.366 & p = 0.385 & p = 0.382 & p = 0.357 \\\\ \n",
            "  stalign & -0.765 & -0.812^{*} & -0.509 & -0.613 \\\\ \n",
            "  & p = 0.135 & p = 0.085 & p = 0.304 & p = 0.189 \\\\ \n",
            "  Abstntn & 1.078^{***} & 1.077^{***} & 1.051^{***} & 1.052^{***} \\\\ \n",
            "  & p = 0.005 & p = 0.005 & p = 0.006 & p = 0.006 \\\\ \n",
            "  PMDB & 1.241^{**} & 1.360^{***} &  &  \\\\ \n",
            "  & p = 0.015 & p = 0.005 &  &  \\\\ \n",
            "  PSDB & -0.082 &  & -0.406 &  \\\\ \n",
            "  & p = 0.896 &  & p = 0.490 &  \\\\ \n",
            "  PT & -0.751 &  &  & -1.042 \\\\ \n",
            "  & p = 0.262 &  &  & p = 0.106 \\\\ \n",
            "  lppdnst & 0.317^{**} & 0.316^{**} & 0.309^{*} & 0.314^{**} \\\\ \n",
            "  & p = 0.046 & p = 0.047 & p = 0.052 & p = 0.049 \\\\ \n",
            "  lpctppy & 7.825^{***} & 7.801^{***} & 7.689^{***} & 7.723^{***} \\\\ \n",
            "  & p = 0.0001 & p = 0.0001 & p = 0.0002 & p = 0.0002 \\\\ \n",
            "  GINI & -6.234^{*} & -6.416^{*} & -6.497^{*} & -6.137^{*} \\\\ \n",
            "  & p = 0.069 & p = 0.061 & p = 0.058 & p = 0.074 \\\\ \n",
            "  IDHM & -17.682^{***} & -17.748^{***} & -17.820^{***} & -17.970^{***} \\\\ \n",
            "  & p = 0.00002 & p = 0.00002 & p = 0.00002 & p = 0.00001 \\\\ \n",
            "  HHsinpr & 0.287^{***} & 0.285^{***} & 0.280^{***} & 0.283^{***} \\\\ \n",
            "  & p = 0.00003 & p = 0.00004 & p = 0.00005 & p = 0.00004 \\\\ \n",
            "  Ocp18ml & 0.047 & 0.046 & 0.050^{*} & 0.052^{*} \\\\ \n",
            "  & p = 0.110 & p = 0.118 & p = 0.092 & p = 0.077 \\\\ \n",
            "  CoverBF & 0.004 & 0.004 & 0.004 & 0.003 \\\\ \n",
            "  & p = 0.704 & p = 0.667 & p = 0.705 & p = 0.765 \\\\ \n",
            "  Constant & 23.145^{***} & 23.191^{***} & 23.264^{***} & 23.194^{***} \\\\ \n",
            "  & p = 0.00001 & p = 0.00001 & p = 0.00001 & p = 0.00001 \\\\ \n",
            " \\hline \\\\[-1.8ex] \n",
            "Observations & \\multicolumn{1}{c}{5,562} & \\multicolumn{1}{c}{5,562} & \\multicolumn{1}{c}{5,562} & \\multicolumn{1}{c}{5,562} \\\\ \n",
            "R$^{2}$ & \\multicolumn{1}{c}{0.020} & \\multicolumn{1}{c}{0.020} & \\multicolumn{1}{c}{0.019} & \\multicolumn{1}{c}{0.019} \\\\ \n",
            "Adjusted R$^{2}$ & \\multicolumn{1}{c}{0.018} & \\multicolumn{1}{c}{0.018} & \\multicolumn{1}{c}{0.017} & \\multicolumn{1}{c}{0.017} \\\\ \n",
            "Residual Std. Error & \\multicolumn{1}{c}{14.315 (df = 5548)} & \\multicolumn{1}{c}{14.314 (df = 5550)} & \\multicolumn{1}{c}{14.324 (df = 5550)} & \\multicolumn{1}{c}{14.321 (df = 5550)} \\\\ \n",
            "F Statistic & \\multicolumn{1}{c}{8.844$^{***}$ (df = 13; 5548)} & \\multicolumn{1}{c}{10.337$^{***}$ (df = 11; 5550)} & \\multicolumn{1}{c}{9.617$^{***}$ (df = 11; 5550)} & \\multicolumn{1}{c}{9.816$^{***}$ (df = 11; 5550)} \\\\ \n",
            "\\hline \n",
            "\\hline \\\\[-1.8ex] \n",
            "\\textit{Note:}  & \\multicolumn{4}{r}{$^{*}$p$<$0.1; $^{**}$p$<$0.05; $^{***}$p$<$0.01} \\\\ \n",
            "\\end{tabular} \n",
            "\\end{table} \n"
          ]
        }
      ]
    }
  ],
  "metadata": {
    "kernelspec": {
      "display_name": "R",
      "language": "R",
      "name": "ir"
    },
    "language_info": {
      "codemirror_mode": "r",
      "file_extension": ".r",
      "mimetype": "text/x-r-source",
      "name": "R",
      "pygments_lexer": "r",
      "version": "4.3.1"
    },
    "colab": {
      "provenance": []
    }
  },
  "nbformat": 4,
  "nbformat_minor": 0
}